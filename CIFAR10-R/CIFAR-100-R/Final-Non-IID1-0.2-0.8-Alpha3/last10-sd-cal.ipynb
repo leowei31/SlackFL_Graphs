{
 "cells": [
  {
   "cell_type": "code",
   "execution_count": 1,
   "metadata": {},
   "outputs": [
    {
     "data": {
      "text/plain": [
       "{'NIID1-WithB-AvR_test_accuracy-0.8.csv': (9.75, 0.35),\n",
       " 'NIID1-Bonly-AvR_test_accuracy-0.8.csv': (9.96, 0.54),\n",
       " 'NIID1-cucb-AvR_test_accuracy-0.8.csv': (9.9, 0.34),\n",
       " 'NIID1-POC-AvR_test_accuracy-0.8.csv': (22.22, 1.52),\n",
       " 'NIID1-FEDLE-AvR_test_accuracy-0.8.csv': (22.25, 0.92)}"
      ]
     },
     "execution_count": 1,
     "metadata": {},
     "output_type": "execute_result"
    }
   ],
   "source": [
    "import pandas as pd\n",
    "\n",
    "# File names\n",
    "files = [\n",
    "    \"NIID1-WithB-AvR_test_accuracy-0.8.csv\",\n",
    "    \"NIID1-Bonly-AvR_test_accuracy-0.8.csv\",\n",
    "    \"NIID1-cucb-AvR_test_accuracy-0.8.csv\",\n",
    "    \"NIID1-POC-AvR_test_accuracy-0.8.csv\",\n",
    "    \"NIID1-FEDLE-AvR_test_accuracy-0.8.csv\"\n",
    "    \n",
    "]\n",
    "\n",
    "# Calculate the average and standard deviation for the last 10 epochs\n",
    "results = {}\n",
    "for file in files:\n",
    "    # Load the file\n",
    "    df = pd.read_csv(f\"{file}\")\n",
    "    \n",
    "    # Extract the 'average_test_accuracy' column\n",
    "    acc = df['average_test_accuracy']\n",
    "    \n",
    "    # Compute the average of the last 10 epochs\n",
    "    avg = round(acc[-10:].mean(), 2)\n",
    "    \n",
    "    # Calculate the standard deviation for the last 10 epochs\n",
    "    std = round(acc[-10:].std(), 2)\n",
    "    \n",
    "    results[file] = (avg, std)\n",
    "\n",
    "results\n"
   ]
  },
  {
   "cell_type": "code",
   "execution_count": null,
   "metadata": {},
   "outputs": [],
   "source": []
  }
 ],
 "metadata": {
  "kernelspec": {
   "display_name": "ml",
   "language": "python",
   "name": "python3"
  },
  "language_info": {
   "codemirror_mode": {
    "name": "ipython",
    "version": 3
   },
   "file_extension": ".py",
   "mimetype": "text/x-python",
   "name": "python",
   "nbconvert_exporter": "python",
   "pygments_lexer": "ipython3",
   "version": "3.10.10"
  },
  "orig_nbformat": 4
 },
 "nbformat": 4,
 "nbformat_minor": 2
}
