{
 "cells": [
  {
   "cell_type": "code",
   "execution_count": 4,
   "id": "06aecb0b",
   "metadata": {},
   "outputs": [
    {
     "data": {
      "text/plain": [
       "['NIID2-EMNIST-FEDLE-Battery_Round-200-0.5-0.5-23-3OMIT1.csv',\n",
       " 'NIID2-EMNIST-FEDLE-Battery_Round-200-0.5-0.5-25-3OMIT1.csv',\n",
       " 'NIID2-EMNIST-FEDLE-Battery_Round-200-0.5-0.5-42-3OMIT1.csv',\n",
       " 'NIID2-EMNIST-FEDLE-Battery_Round-200-0.5-0.5-55-3OMIT1.csv',\n",
       " 'NIID2-EMNIST-FEDLE-Battery_Round-200-0.5-0.5-68-3OMIT1.csv']"
      ]
     },
     "execution_count": 4,
     "metadata": {},
     "output_type": "execute_result"
    }
   ],
   "source": [
    "import os\n",
    "import numpy as np\n",
    "import pandas as pd\n",
    "import csv\n",
    "import glob\n",
    "\n",
    "# glob.glob(\"Final-BatOpt v. Baseline-2cooldown-3round/Best*.csv\")\n",
    "glob.glob(\"NIID2-EMNIST-fedle-Ba*.csv\")"
   ]
  },
  {
   "cell_type": "code",
   "execution_count": null,
   "id": "0bf2f5c6",
   "metadata": {},
   "outputs": [],
   "source": []
  },
  {
   "cell_type": "code",
   "execution_count": 5,
   "id": "482a62cc",
   "metadata": {},
   "outputs": [
    {
     "name": "stderr",
     "output_type": "stream",
     "text": [
      "C:\\Users\\DENOSLAB\\AppData\\Local\\Temp\\ipykernel_16900\\4223992816.py:20: FutureWarning: Passing 'suffixes' which cause duplicate columns {'test_accuracy_x'} in the result is deprecated and will raise a MergeError in a future version.\n",
      "  all_data = pd.merge(all_data, df, left_index=True, right_index=True)\n"
     ]
    }
   ],
   "source": [
    "# for ids, one_filename in enumerate(glob.glob(\"Best*.csv\")):\n",
    "\n",
    "# glob.glob to match the pattern 'Best*.csv'\n",
    "# csv_files = glob.glob(\"CIFAR100-FEDLE-FedAvg-Test_Accuracy-200-0.5-0.5*.csv\")\n",
    "csv_files = glob.glob(\"NIID2-EMNIST-fedle-te*.csv\")\n",
    "# Create a DataFrame to accumulate data\n",
    "all_data = pd.DataFrame()\n",
    "\n",
    "# Loop through the list of csv files\n",
    "for f in csv_files:\n",
    "    # Read the csv file\n",
    "    df = pd.read_csv(f)\n",
    "    # Make sure the 'round' column is the index (if not already)\n",
    "    df = df.set_index('round')\n",
    "    # If the data frame is empty, just set it equal to the current file's data frame\n",
    "    if all_data.empty:\n",
    "        all_data = df\n",
    "    else:\n",
    "        # If the all_data data frame is not empty, merge the data (this assumes 'round' is the same in all files)\n",
    "        all_data = pd.merge(all_data, df, left_index=True, right_index=True)\n",
    "\n",
    "# Average the 'test_accuracy' across all files, axis=1 for averaging across columns\n",
    "all_data['average_test_accuracy'] = (all_data.mean(axis=1))\n",
    "\n",
    "# Round 'average_test_accuracy' to two decimal places\n",
    "all_data['average_test_accuracy'] = all_data['average_test_accuracy'].round(2)\n",
    "\n",
    "# Save the averaged results to a new CSV file\n",
    "all_data.to_csv(\"NIID2-fedle-AvR_test_accuracy-0.5.csv\")"
   ]
  },
  {
   "cell_type": "code",
   "execution_count": 6,
   "id": "6fbaa45a",
   "metadata": {},
   "outputs": [
    {
     "name": "stderr",
     "output_type": "stream",
     "text": [
      "C:\\Users\\DENOSLAB\\AppData\\Local\\Temp\\ipykernel_16900\\497924774.py:20: FutureWarning: Passing 'suffixes' which cause duplicate columns {'battery_round_x'} in the result is deprecated and will raise a MergeError in a future version.\n",
      "  all_data = pd.merge(all_data, df, left_index=True, right_index=True)\n"
     ]
    }
   ],
   "source": [
    "# for ids, one_filename in enumerate(glob.glob(\"Best*.csv\")):\n",
    "\n",
    "# glob.glob to match the pattern 'Best*.csv'\n",
    "# csv_files = glob.glob(\"CIFAR100-FEDLE-FedAvg-Test_Accuracy-200-0.5-0.5*.csv\")\n",
    "csv_files = glob.glob(\"NIID2-EMNIST-fedle-Ba*.csv\")\n",
    "# Create a DataFrame to accumulate data\n",
    "all_data = pd.DataFrame()\n",
    "\n",
    "# Loop through the list of csv files\n",
    "for f in csv_files:\n",
    "    # Read the csv file\n",
    "    df = pd.read_csv(f)\n",
    "    # Make sure the 'round' column is the index (if not already)\n",
    "    df = df.set_index('round')\n",
    "    # If the data frame is empty, just set it equal to the current file's data frame\n",
    "    if all_data.empty:\n",
    "        all_data = df\n",
    "    else:\n",
    "        # If the all_data data frame is not empty, merge the data (this assumes 'round' is the same in all files)\n",
    "        all_data = pd.merge(all_data, df, left_index=True, right_index=True)\n",
    "\n",
    "# Average the 'test_accuracy' across all files, axis=1 for averaging across columns\n",
    "all_data['average_Battery_Round'] = (all_data.mean(axis=1))\n",
    "\n",
    "# Round 'average_test_accuracy' to two decimal places\n",
    "all_data['average_Battery_Round'] = all_data['average_Battery_Round'].astype(int)\n",
    "\n",
    "# Save the averaged results to a new CSV file\n",
    "all_data.to_csv(\"NIID2-fedle-AvR_Battery_Round-0.5.csv\")"
   ]
  },
  {
   "cell_type": "code",
   "execution_count": 7,
   "id": "a4ed0b6e",
   "metadata": {},
   "outputs": [
    {
     "name": "stderr",
     "output_type": "stream",
     "text": [
      "C:\\Users\\DENOSLAB\\AppData\\Local\\Temp\\ipykernel_16900\\2009696740.py:20: FutureWarning: Passing 'suffixes' which cause duplicate columns {'battery_round_x'} in the result is deprecated and will raise a MergeError in a future version.\n",
      "  all_data = pd.merge(all_data, df, left_index=True, right_index=True)\n"
     ]
    }
   ],
   "source": [
    "# for ids, one_filename in enumerate(glob.glob(\"Best*.csv\")):\n",
    "\n",
    "# glob.glob to match the pattern 'Best*.csv'\n",
    "# csv_files = glob.glob(\"CIFAR100-FEDLE-FedAvg-Test_Accuracy-200-0.5-0.5*.csv\")\n",
    "csv_files = glob.glob(\"NIID2-EMNIST-fedle-to*.csv\")\n",
    "# Create a DataFrame to accumulate data\n",
    "all_data = pd.DataFrame()\n",
    "\n",
    "# Loop through the list of csv files\n",
    "for f in csv_files:\n",
    "    # Read the csv file\n",
    "    df = pd.read_csv(f)\n",
    "    # Make sure the 'round' column is the index (if not already)\n",
    "    df = df.set_index('round')\n",
    "    # If the data frame is empty, just set it equal to the current file's data frame\n",
    "    if all_data.empty:\n",
    "        all_data = df\n",
    "    else:\n",
    "        # If the all_data data frame is not empty, merge the data (this assumes 'round' is the same in all files)\n",
    "        all_data = pd.merge(all_data, df, left_index=True, right_index=True)\n",
    "\n",
    "# Average the 'test_accuracy' across all files, axis=1 for averaging across columns\n",
    "all_data['average_data_transmitted'] = (all_data.mean(axis=1))\n",
    "\n",
    "# Round 'average_test_accuracy' to two decimal places\n",
    "all_data['average_data_transmitted'] = all_data['average_data_transmitted'].astype(int)\n",
    "\n",
    "# Save the averaged results to a new CSV file\n",
    "all_data.to_csv(\"NIID2-fedle-AvR_data_transmitted-0.5.csv\")"
   ]
  }
 ],
 "metadata": {
  "kernelspec": {
   "display_name": "Python 3",
   "language": "python",
   "name": "python3"
  },
  "language_info": {
   "codemirror_mode": {
    "name": "ipython",
    "version": 3
   },
   "file_extension": ".py",
   "mimetype": "text/x-python",
   "name": "python",
   "nbconvert_exporter": "python",
   "pygments_lexer": "ipython3",
   "version": "3.10.10"
  }
 },
 "nbformat": 4,
 "nbformat_minor": 5
}
