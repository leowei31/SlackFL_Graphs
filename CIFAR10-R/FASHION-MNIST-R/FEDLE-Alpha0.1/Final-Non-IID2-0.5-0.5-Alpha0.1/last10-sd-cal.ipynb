{
 "cells": [
  {
   "cell_type": "code",
   "execution_count": 1,
   "metadata": {},
   "outputs": [
    {
     "data": {
      "text/plain": [
       "{'NIID2-FEDLE-AvR_test_accuracy-0.5.csv': (84.66, 0.63)}"
      ]
     },
     "execution_count": 1,
     "metadata": {},
     "output_type": "execute_result"
    }
   ],
   "source": [
    "import pandas as pd\n",
    "\n",
    "# File names\n",
    "files = [\n",
    "\n",
    "    \"NIID2-FEDLE-AvR_test_accuracy-0.5.csv\"\n",
    "    \n",
    "]\n",
    "\n",
    "# Calculate the average and standard deviation for the last 10 epochs\n",
    "results = {}\n",
    "for file in files:\n",
    "    # Load the file\n",
    "    df = pd.read_csv(f\"{file}\")\n",
    "    \n",
    "    # Extract the 'average_test_accuracy' column\n",
    "    acc = df['average_test_accuracy']\n",
    "    \n",
    "    # Compute the average of the last 10 epochs\n",
    "    avg = round(acc[-10:].mean(), 2)\n",
    "    \n",
    "    # Calculate the standard deviation for the last 10 epochs\n",
    "    std = round(acc[-10:].std(), 2)\n",
    "    \n",
    "    results[file] = (avg, std)\n",
    "\n",
    "results\n"
   ]
  },
  {
   "cell_type": "code",
   "execution_count": null,
   "metadata": {},
   "outputs": [],
   "source": []
  }
 ],
 "metadata": {
  "kernelspec": {
   "display_name": "ml",
   "language": "python",
   "name": "python3"
  },
  "language_info": {
   "codemirror_mode": {
    "name": "ipython",
    "version": 3
   },
   "file_extension": ".py",
   "mimetype": "text/x-python",
   "name": "python",
   "nbconvert_exporter": "python",
   "pygments_lexer": "ipython3",
   "version": "3.10.10"
  },
  "orig_nbformat": 4
 },
 "nbformat": 4,
 "nbformat_minor": 2
}
