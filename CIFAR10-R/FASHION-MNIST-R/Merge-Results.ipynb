{
 "cells": [
  {
   "cell_type": "code",
   "execution_count": 1,
   "id": "06aecb0b",
   "metadata": {},
   "outputs": [
    {
     "data": {
      "text/plain": [
       "['NIID2-Fashion-MNIST-FEDLE-FedAvg-Battery_Round-200-0.2-0.8-199-0.1Om1.csv',\n",
       " 'NIID2-Fashion-MNIST-FEDLE-FedAvg-Battery_Round-200-0.2-0.8-25-0.1Om1.csv',\n",
       " 'NIID2-Fashion-MNIST-FEDLE-FedAvg-Battery_Round-200-0.2-0.8-34-0.1Om1.csv',\n",
       " 'NIID2-Fashion-MNIST-FEDLE-FedAvg-Battery_Round-200-0.2-0.8-66-0.1Om1.csv',\n",
       " 'NIID2-Fashion-MNIST-FEDLE-FedAvg-Battery_Round-200-0.2-0.8-88-0.1Om1.csv']"
      ]
     },
     "execution_count": 1,
     "metadata": {},
     "output_type": "execute_result"
    }
   ],
   "source": [
    "import os\n",
    "import numpy as np\n",
    "import pandas as pd\n",
    "import csv\n",
    "import glob\n",
    "\n",
    "# glob.glob(\"Final-BatOpt v. Baseline-2cooldown-3round/Best*.csv\")\n",
    "glob.glob(\"NIID2-FASHION-MNIST-fedle-fedavg-ba*.csv\")"
   ]
  },
  {
   "cell_type": "code",
   "execution_count": null,
   "id": "0bf2f5c6",
   "metadata": {},
   "outputs": [],
   "source": []
  },
  {
   "cell_type": "code",
   "execution_count": 31,
   "id": "482a62cc",
   "metadata": {},
   "outputs": [
    {
     "name": "stderr",
     "output_type": "stream",
     "text": [
      "C:\\Users\\gerry\\AppData\\Local\\Temp\\ipykernel_17772\\1869553669.py:20: FutureWarning: Passing 'suffixes' which cause duplicate columns {'test_accuracy_x'} in the result is deprecated and will raise a MergeError in a future version.\n",
      "  all_data = pd.merge(all_data, df, left_index=True, right_index=True)\n"
     ]
    }
   ],
   "source": [
    "# for ids, one_filename in enumerate(glob.glob(\"Best*.csv\")):\n",
    "\n",
    "# glob.glob to match the pattern 'Best*.csv'\n",
    "# csv_files = glob.glob(\"CIFAR100-FEDLE-FedAvg-Test_Accuracy-200-0.5-0.5*.csv\")\n",
    "csv_files = glob.glob(\"NIID2-FASHION-MNIST-fedle-fedavg-TE*.csv\")\n",
    "# Create a DataFrame to accumulate data\n",
    "all_data = pd.DataFrame()\n",
    "\n",
    "# Loop through the list of csv files\n",
    "for f in csv_files:\n",
    "    # Read the csv file\n",
    "    df = pd.read_csv(f)\n",
    "    # Make sure the 'round' column is the index (if not already)\n",
    "    df = df.set_index('round')\n",
    "    # If the data frame is empty, just set it equal to the current file's data frame\n",
    "    if all_data.empty:\n",
    "        all_data = df\n",
    "    else:\n",
    "        # If the all_data data frame is not empty, merge the data (this assumes 'round' is the same in all files)\n",
    "        all_data = pd.merge(all_data, df, left_index=True, right_index=True)\n",
    "\n",
    "# Average the 'test_accuracy' across all files, axis=1 for averaging across columns\n",
    "all_data['average_test_accuracy'] = (all_data.mean(axis=1))\n",
    "\n",
    "# Round 'average_test_accuracy' to two decimal places\n",
    "all_data['average_test_accuracy'] = all_data['average_test_accuracy'].round(2)\n",
    "\n",
    "# Save the averaged results to a new CSV file\n",
    "all_data.to_csv(\"NIID2-FEDLE-AvR_test_accuracy-0.8.csv\")"
   ]
  },
  {
   "cell_type": "code",
   "execution_count": 32,
   "id": "6fbaa45a",
   "metadata": {},
   "outputs": [
    {
     "name": "stderr",
     "output_type": "stream",
     "text": [
      "C:\\Users\\gerry\\AppData\\Local\\Temp\\ipykernel_17772\\611406348.py:20: FutureWarning: Passing 'suffixes' which cause duplicate columns {'battery_round_x'} in the result is deprecated and will raise a MergeError in a future version.\n",
      "  all_data = pd.merge(all_data, df, left_index=True, right_index=True)\n"
     ]
    }
   ],
   "source": [
    "# for ids, one_filename in enumerate(glob.glob(\"Best*.csv\")):\n",
    "\n",
    "# glob.glob to match the pattern 'Best*.csv'\n",
    "# csv_files = glob.glob(\"CIFAR100-FEDLE-FedAvg-Test_Accuracy-200-0.5-0.5*.csv\")\n",
    "csv_files = glob.glob(\"NIID2-FASHION-MNIST-fedle-fedavg-BA*.csv\")\n",
    "# Create a DataFrame to accumulate data\n",
    "all_data = pd.DataFrame()\n",
    "\n",
    "# Loop through the list of csv files\n",
    "for f in csv_files:\n",
    "    # Read the csv file\n",
    "    df = pd.read_csv(f)\n",
    "    # Make sure the 'round' column is the index (if not already)\n",
    "    df = df.set_index('round')\n",
    "    # If the data frame is empty, just set it equal to the current file's data frame\n",
    "    if all_data.empty:\n",
    "        all_data = df\n",
    "    else:\n",
    "        # If the all_data data frame is not empty, merge the data (this assumes 'round' is the same in all files)\n",
    "        all_data = pd.merge(all_data, df, left_index=True, right_index=True)\n",
    "\n",
    "# Average the 'test_accuracy' across all files, axis=1 for averaging across columns\n",
    "all_data['average_Battery_Round'] = (all_data.mean(axis=1))\n",
    "\n",
    "# Round 'average_test_accuracy' to two decimal places\n",
    "all_data['average_Battery_Round'] = all_data['average_Battery_Round'].astype(int)\n",
    "\n",
    "# Save the averaged results to a new CSV file\n",
    "all_data.to_csv(\"NIID2-FEDLE-AvR_Battery_Round-0.8.csv\")"
   ]
  },
  {
   "cell_type": "code",
   "execution_count": 33,
   "id": "a4ed0b6e",
   "metadata": {},
   "outputs": [
    {
     "name": "stderr",
     "output_type": "stream",
     "text": [
      "C:\\Users\\gerry\\AppData\\Local\\Temp\\ipykernel_17772\\329711206.py:20: FutureWarning: Passing 'suffixes' which cause duplicate columns {'battery_round_x'} in the result is deprecated and will raise a MergeError in a future version.\n",
      "  all_data = pd.merge(all_data, df, left_index=True, right_index=True)\n"
     ]
    }
   ],
   "source": [
    "# for ids, one_filename in enumerate(glob.glob(\"Best*.csv\")):\n",
    "\n",
    "# glob.glob to match the pattern 'Best*.csv'\n",
    "# csv_files = glob.glob(\"CIFAR100-FEDLE-FedAvg-Test_Accuracy-200-0.5-0.5*.csv\")\n",
    "csv_files = glob.glob(\"NIID2-FASHION-MNIST-fedle-fedavg-TO*.csv\")\n",
    "# Create a DataFrame to accumulate data\n",
    "all_data = pd.DataFrame()\n",
    "\n",
    "# Loop through the list of csv files\n",
    "for f in csv_files:\n",
    "    # Read the csv file\n",
    "    df = pd.read_csv(f)\n",
    "    # Make sure the 'round' column is the index (if not already)\n",
    "    df = df.set_index('round')\n",
    "    # If the data frame is empty, just set it equal to the current file's data frame\n",
    "    if all_data.empty:\n",
    "        all_data = df\n",
    "    else:\n",
    "        # If the all_data data frame is not empty, merge the data (this assumes 'round' is the same in all files)\n",
    "        all_data = pd.merge(all_data, df, left_index=True, right_index=True)\n",
    "\n",
    "# Average the 'test_accuracy' across all files, axis=1 for averaging across columns\n",
    "all_data['average_data_transmitted'] = (all_data.mean(axis=1))\n",
    "\n",
    "# Round 'average_test_accuracy' to two decimal places\n",
    "all_data['average_data_transmitted'] = all_data['average_data_transmitted'].astype(int)\n",
    "\n",
    "# Save the averaged results to a new CSV file\n",
    "all_data.to_csv(\"NIID2-FEDLE-AvR_data_transmitted-0.8.csv\")"
   ]
  }
 ],
 "metadata": {
  "kernelspec": {
   "display_name": "Python 3",
   "language": "python",
   "name": "python3"
  },
  "language_info": {
   "codemirror_mode": {
    "name": "ipython",
    "version": 3
   },
   "file_extension": ".py",
   "mimetype": "text/x-python",
   "name": "python",
   "nbconvert_exporter": "python",
   "pygments_lexer": "ipython3",
   "version": "3.10.10"
  }
 },
 "nbformat": 4,
 "nbformat_minor": 5
}
